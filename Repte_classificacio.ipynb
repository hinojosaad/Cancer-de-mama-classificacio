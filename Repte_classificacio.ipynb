{
 "cells": [
  {
   "cell_type": "code",
   "execution_count": 1,
   "id": "1df39961",
   "metadata": {},
   "outputs": [],
   "source": [
    "import pandas as pd\n",
    "import warnings\n",
    "warnings.filterwarnings(\"ignore\")\n",
    "import matplotlib.pyplot as plt\n",
    "import seaborn as sns\n",
    "from sklearn.pipeline import Pipeline\n",
    "from sklearn.metrics import f1_score\n",
    "import numpy as np\n",
    "from sklearn.model_selection import cross_val_score,GridSearchCV\n",
    "from sklearn.preprocessing import RobustScaler\n",
    "from sklearn.neighbors import KNeighborsClassifier\n",
    "from sklearn.ensemble import RandomForestClassifier, GradientBoostingClassifier\n",
    "from sklearn.tree import DecisionTreeClassifier\n",
    "from sklearn.svm import SVC"
   ]
  },
  {
   "cell_type": "markdown",
   "id": "752f8ba8",
   "metadata": {},
   "source": [
    "# 1. Análisi del conjunt de dades"
   ]
  },
  {
   "cell_type": "markdown",
   "id": "85375520",
   "metadata": {},
   "source": [
    "Fem us de pandas per carregar el train a un dataframe:"
   ]
  },
  {
   "cell_type": "code",
   "execution_count": 2,
   "id": "13e25d63",
   "metadata": {},
   "outputs": [],
   "source": [
    "train = pd.read_csv(\"train.csv\")"
   ]
  },
  {
   "cell_type": "markdown",
   "id": "24072066",
   "metadata": {},
   "source": [
    "Consultem les primeres línies del train:"
   ]
  },
  {
   "cell_type": "code",
   "execution_count": 3,
   "id": "abb72e2c",
   "metadata": {},
   "outputs": [
    {
     "data": {
      "text/html": [
       "<div>\n",
       "<style scoped>\n",
       "    .dataframe tbody tr th:only-of-type {\n",
       "        vertical-align: middle;\n",
       "    }\n",
       "\n",
       "    .dataframe tbody tr th {\n",
       "        vertical-align: top;\n",
       "    }\n",
       "\n",
       "    .dataframe thead th {\n",
       "        text-align: right;\n",
       "    }\n",
       "</style>\n",
       "<table border=\"1\" class=\"dataframe\">\n",
       "  <thead>\n",
       "    <tr style=\"text-align: right;\">\n",
       "      <th></th>\n",
       "      <th>diagnosis</th>\n",
       "      <th>radius_mean</th>\n",
       "      <th>texture_mean</th>\n",
       "      <th>perimeter_mean</th>\n",
       "      <th>area_mean</th>\n",
       "      <th>smoothness_mean</th>\n",
       "      <th>compactness_mean</th>\n",
       "      <th>concavity_mean</th>\n",
       "      <th>concave points_mean</th>\n",
       "      <th>symmetry_mean</th>\n",
       "      <th>...</th>\n",
       "      <th>radius_worst</th>\n",
       "      <th>texture_worst</th>\n",
       "      <th>perimeter_worst</th>\n",
       "      <th>area_worst</th>\n",
       "      <th>smoothness_worst</th>\n",
       "      <th>compactness_worst</th>\n",
       "      <th>concavity_worst</th>\n",
       "      <th>concave points_worst</th>\n",
       "      <th>symmetry_worst</th>\n",
       "      <th>fractal_dimension_worst</th>\n",
       "    </tr>\n",
       "  </thead>\n",
       "  <tbody>\n",
       "    <tr>\n",
       "      <th>0</th>\n",
       "      <td>0</td>\n",
       "      <td>10.71</td>\n",
       "      <td>20.39</td>\n",
       "      <td>69.50</td>\n",
       "      <td>344.9</td>\n",
       "      <td>0.10820</td>\n",
       "      <td>0.12890</td>\n",
       "      <td>0.08448</td>\n",
       "      <td>0.02867</td>\n",
       "      <td>0.1668</td>\n",
       "      <td>...</td>\n",
       "      <td>11.69</td>\n",
       "      <td>25.21</td>\n",
       "      <td>76.51</td>\n",
       "      <td>410.4</td>\n",
       "      <td>0.1335</td>\n",
       "      <td>0.2550</td>\n",
       "      <td>0.2534</td>\n",
       "      <td>0.08600</td>\n",
       "      <td>0.2605</td>\n",
       "      <td>0.08701</td>\n",
       "    </tr>\n",
       "    <tr>\n",
       "      <th>1</th>\n",
       "      <td>0</td>\n",
       "      <td>13.64</td>\n",
       "      <td>16.34</td>\n",
       "      <td>87.21</td>\n",
       "      <td>571.8</td>\n",
       "      <td>0.07685</td>\n",
       "      <td>0.06059</td>\n",
       "      <td>0.01857</td>\n",
       "      <td>0.01723</td>\n",
       "      <td>0.1353</td>\n",
       "      <td>...</td>\n",
       "      <td>14.67</td>\n",
       "      <td>23.19</td>\n",
       "      <td>96.08</td>\n",
       "      <td>656.7</td>\n",
       "      <td>0.1089</td>\n",
       "      <td>0.1582</td>\n",
       "      <td>0.1050</td>\n",
       "      <td>0.08586</td>\n",
       "      <td>0.2346</td>\n",
       "      <td>0.08025</td>\n",
       "    </tr>\n",
       "    <tr>\n",
       "      <th>2</th>\n",
       "      <td>0</td>\n",
       "      <td>11.71</td>\n",
       "      <td>17.19</td>\n",
       "      <td>74.68</td>\n",
       "      <td>420.3</td>\n",
       "      <td>0.09774</td>\n",
       "      <td>0.06141</td>\n",
       "      <td>0.03809</td>\n",
       "      <td>0.03239</td>\n",
       "      <td>0.1516</td>\n",
       "      <td>...</td>\n",
       "      <td>13.01</td>\n",
       "      <td>21.39</td>\n",
       "      <td>84.42</td>\n",
       "      <td>521.5</td>\n",
       "      <td>0.1323</td>\n",
       "      <td>0.1040</td>\n",
       "      <td>0.1521</td>\n",
       "      <td>0.10990</td>\n",
       "      <td>0.2572</td>\n",
       "      <td>0.07097</td>\n",
       "    </tr>\n",
       "    <tr>\n",
       "      <th>3</th>\n",
       "      <td>1</td>\n",
       "      <td>15.30</td>\n",
       "      <td>25.27</td>\n",
       "      <td>102.40</td>\n",
       "      <td>732.4</td>\n",
       "      <td>0.10820</td>\n",
       "      <td>0.16970</td>\n",
       "      <td>0.16830</td>\n",
       "      <td>0.08751</td>\n",
       "      <td>0.1926</td>\n",
       "      <td>...</td>\n",
       "      <td>20.27</td>\n",
       "      <td>36.71</td>\n",
       "      <td>149.30</td>\n",
       "      <td>1269.0</td>\n",
       "      <td>0.1641</td>\n",
       "      <td>0.6110</td>\n",
       "      <td>0.6335</td>\n",
       "      <td>0.20240</td>\n",
       "      <td>0.4027</td>\n",
       "      <td>0.09876</td>\n",
       "    </tr>\n",
       "    <tr>\n",
       "      <th>4</th>\n",
       "      <td>1</td>\n",
       "      <td>14.45</td>\n",
       "      <td>20.22</td>\n",
       "      <td>94.49</td>\n",
       "      <td>642.7</td>\n",
       "      <td>0.09872</td>\n",
       "      <td>0.12060</td>\n",
       "      <td>0.11800</td>\n",
       "      <td>0.05980</td>\n",
       "      <td>0.1950</td>\n",
       "      <td>...</td>\n",
       "      <td>18.33</td>\n",
       "      <td>30.12</td>\n",
       "      <td>117.90</td>\n",
       "      <td>1044.0</td>\n",
       "      <td>0.1552</td>\n",
       "      <td>0.4056</td>\n",
       "      <td>0.4967</td>\n",
       "      <td>0.18380</td>\n",
       "      <td>0.4753</td>\n",
       "      <td>0.10130</td>\n",
       "    </tr>\n",
       "  </tbody>\n",
       "</table>\n",
       "<p>5 rows × 31 columns</p>\n",
       "</div>"
      ],
      "text/plain": [
       "   diagnosis  radius_mean  texture_mean  perimeter_mean  area_mean  \\\n",
       "0          0        10.71         20.39           69.50      344.9   \n",
       "1          0        13.64         16.34           87.21      571.8   \n",
       "2          0        11.71         17.19           74.68      420.3   \n",
       "3          1        15.30         25.27          102.40      732.4   \n",
       "4          1        14.45         20.22           94.49      642.7   \n",
       "\n",
       "   smoothness_mean  compactness_mean  concavity_mean  concave points_mean  \\\n",
       "0          0.10820           0.12890         0.08448              0.02867   \n",
       "1          0.07685           0.06059         0.01857              0.01723   \n",
       "2          0.09774           0.06141         0.03809              0.03239   \n",
       "3          0.10820           0.16970         0.16830              0.08751   \n",
       "4          0.09872           0.12060         0.11800              0.05980   \n",
       "\n",
       "   symmetry_mean  ...  radius_worst  texture_worst  perimeter_worst  \\\n",
       "0         0.1668  ...         11.69          25.21            76.51   \n",
       "1         0.1353  ...         14.67          23.19            96.08   \n",
       "2         0.1516  ...         13.01          21.39            84.42   \n",
       "3         0.1926  ...         20.27          36.71           149.30   \n",
       "4         0.1950  ...         18.33          30.12           117.90   \n",
       "\n",
       "   area_worst  smoothness_worst  compactness_worst  concavity_worst  \\\n",
       "0       410.4            0.1335             0.2550           0.2534   \n",
       "1       656.7            0.1089             0.1582           0.1050   \n",
       "2       521.5            0.1323             0.1040           0.1521   \n",
       "3      1269.0            0.1641             0.6110           0.6335   \n",
       "4      1044.0            0.1552             0.4056           0.4967   \n",
       "\n",
       "   concave points_worst  symmetry_worst  fractal_dimension_worst  \n",
       "0               0.08600          0.2605                  0.08701  \n",
       "1               0.08586          0.2346                  0.08025  \n",
       "2               0.10990          0.2572                  0.07097  \n",
       "3               0.20240          0.4027                  0.09876  \n",
       "4               0.18380          0.4753                  0.10130  \n",
       "\n",
       "[5 rows x 31 columns]"
      ]
     },
     "execution_count": 3,
     "metadata": {},
     "output_type": "execute_result"
    }
   ],
   "source": [
    "train.head()"
   ]
  },
  {
   "cell_type": "markdown",
   "id": "c081a828",
   "metadata": {},
   "source": [
    "La primera columna conté la diagnosis de cada mostra:\n",
    "\n",
    "* 0 tumor benigne\n",
    "* 1 tumor maligne\n",
    "\n",
    "Les seguents columnes contenen diverses mesures amb caracteristiques de cada tumor."
   ]
  },
  {
   "cell_type": "markdown",
   "id": "607a8ec0",
   "metadata": {},
   "source": [
    "Fem un resumen amb les principals característiques de cada columna del dataframe:"
   ]
  },
  {
   "cell_type": "code",
   "execution_count": 4,
   "id": "6ccf4417",
   "metadata": {},
   "outputs": [
    {
     "name": "stdout",
     "output_type": "stream",
     "text": [
      "<class 'pandas.core.frame.DataFrame'>\n",
      "RangeIndex: 455 entries, 0 to 454\n",
      "Data columns (total 31 columns):\n",
      " #   Column                   Non-Null Count  Dtype  \n",
      "---  ------                   --------------  -----  \n",
      " 0   diagnosis                455 non-null    int64  \n",
      " 1   radius_mean              455 non-null    float64\n",
      " 2   texture_mean             455 non-null    float64\n",
      " 3   perimeter_mean           455 non-null    float64\n",
      " 4   area_mean                455 non-null    float64\n",
      " 5   smoothness_mean          455 non-null    float64\n",
      " 6   compactness_mean         455 non-null    float64\n",
      " 7   concavity_mean           455 non-null    float64\n",
      " 8   concave points_mean      455 non-null    float64\n",
      " 9   symmetry_mean            455 non-null    float64\n",
      " 10  fractal_dimension_mean   455 non-null    float64\n",
      " 11  radius_se                455 non-null    float64\n",
      " 12  texture_se               455 non-null    float64\n",
      " 13  perimeter_se             455 non-null    float64\n",
      " 14  area_se                  455 non-null    float64\n",
      " 15  smoothness_se            455 non-null    float64\n",
      " 16  compactness_se           455 non-null    float64\n",
      " 17  concavity_se             455 non-null    float64\n",
      " 18  concave points_se        455 non-null    float64\n",
      " 19  symmetry_se              455 non-null    float64\n",
      " 20  fractal_dimension_se     455 non-null    float64\n",
      " 21  radius_worst             455 non-null    float64\n",
      " 22  texture_worst            455 non-null    float64\n",
      " 23  perimeter_worst          455 non-null    float64\n",
      " 24  area_worst               455 non-null    float64\n",
      " 25  smoothness_worst         455 non-null    float64\n",
      " 26  compactness_worst        455 non-null    float64\n",
      " 27  concavity_worst          455 non-null    float64\n",
      " 28  concave points_worst     455 non-null    float64\n",
      " 29  symmetry_worst           455 non-null    float64\n",
      " 30  fractal_dimension_worst  455 non-null    float64\n",
      "dtypes: float64(30), int64(1)\n",
      "memory usage: 110.3 KB\n"
     ]
    }
   ],
   "source": [
    "train.info()"
   ]
  },
  {
   "cell_type": "markdown",
   "id": "88607873",
   "metadata": {},
   "source": [
    "Les dades tenen un total de 455 observacions i no hi ha casilles buides."
   ]
  },
  {
   "cell_type": "markdown",
   "id": "3091266e",
   "metadata": {},
   "source": [
    "Fem un gràfic amb els percentages de distribuciò de la variable de diagnostic:"
   ]
  },
  {
   "cell_type": "code",
   "execution_count": 5,
   "id": "44e1ded3",
   "metadata": {},
   "outputs": [
    {
     "data": {
      "image/png": "[encoded data removed]",
      "text/plain": [
       "<Figure size 640x480 with 1 Axes>"
      ]
     },
     "metadata": {},
     "output_type": "display_data"
    }
   ],
   "source": [
    "import matplotlib.pyplot as plt\n",
    "\n",
    "pie_chart = train[\"diagnosis\"].value_counts(normalize=True) * 100\n",
    "\n",
    "plt.pie(pie_chart,autopct=\"%1.1f%%\", labels = ['benigne','maligne'],colors=['green','red'])\n",
    "plt.show()"
   ]
  },
  {
   "cell_type": "markdown",
   "id": "00dae4a1",
   "metadata": {},
   "source": [
    "Fem una taula amb la informació estadistica de les variables indepedients i grafiquem el seus histograms agrupats per categoria d'acord al diagnostic:"
   ]
  },
  {
   "cell_type": "code",
   "execution_count": 6,
   "id": "7b9eddf4",
   "metadata": {},
   "outputs": [
    {
     "data": {
      "text/html": [
       "<div>\n",
       "<style scoped>\n",
       "    .dataframe tbody tr th:only-of-type {\n",
       "        vertical-align: middle;\n",
       "    }\n",
       "\n",
       "    .dataframe tbody tr th {\n",
       "        vertical-align: top;\n",
       "    }\n",
       "\n",
       "    .dataframe thead th {\n",
       "        text-align: right;\n",
       "    }\n",
       "</style>\n",
       "<table border=\"1\" class=\"dataframe\">\n",
       "  <thead>\n",
       "    <tr style=\"text-align: right;\">\n",
       "      <th></th>\n",
       "      <th>radius_mean</th>\n",
       "      <th>texture_mean</th>\n",
       "      <th>perimeter_mean</th>\n",
       "      <th>area_mean</th>\n",
       "      <th>smoothness_mean</th>\n",
       "      <th>compactness_mean</th>\n",
       "      <th>concavity_mean</th>\n",
       "      <th>concave points_mean</th>\n",
       "      <th>symmetry_mean</th>\n",
       "      <th>fractal_dimension_mean</th>\n",
       "      <th>...</th>\n",
       "      <th>radius_worst</th>\n",
       "      <th>texture_worst</th>\n",
       "      <th>perimeter_worst</th>\n",
       "      <th>area_worst</th>\n",
       "      <th>smoothness_worst</th>\n",
       "      <th>compactness_worst</th>\n",
       "      <th>concavity_worst</th>\n",
       "      <th>concave points_worst</th>\n",
       "      <th>symmetry_worst</th>\n",
       "      <th>fractal_dimension_worst</th>\n",
       "    </tr>\n",
       "  </thead>\n",
       "  <tbody>\n",
       "    <tr>\n",
       "      <th>count</th>\n",
       "      <td>455.000000</td>\n",
       "      <td>455.000000</td>\n",
       "      <td>455.000000</td>\n",
       "      <td>455.000000</td>\n",
       "      <td>455.000000</td>\n",
       "      <td>455.000000</td>\n",
       "      <td>455.000000</td>\n",
       "      <td>455.000000</td>\n",
       "      <td>455.000000</td>\n",
       "      <td>455.000000</td>\n",
       "      <td>...</td>\n",
       "      <td>455.000000</td>\n",
       "      <td>455.000000</td>\n",
       "      <td>455.000000</td>\n",
       "      <td>455.000000</td>\n",
       "      <td>455.000000</td>\n",
       "      <td>455.000000</td>\n",
       "      <td>455.000000</td>\n",
       "      <td>455.000000</td>\n",
       "      <td>455.000000</td>\n",
       "      <td>455.000000</td>\n",
       "    </tr>\n",
       "    <tr>\n",
       "      <th>mean</th>\n",
       "      <td>14.139000</td>\n",
       "      <td>19.306286</td>\n",
       "      <td>92.086044</td>\n",
       "      <td>657.829890</td>\n",
       "      <td>0.096849</td>\n",
       "      <td>0.105557</td>\n",
       "      <td>0.090775</td>\n",
       "      <td>0.049585</td>\n",
       "      <td>0.181319</td>\n",
       "      <td>0.062925</td>\n",
       "      <td>...</td>\n",
       "      <td>16.276679</td>\n",
       "      <td>25.823099</td>\n",
       "      <td>107.319516</td>\n",
       "      <td>882.553187</td>\n",
       "      <td>0.133482</td>\n",
       "      <td>0.256997</td>\n",
       "      <td>0.278242</td>\n",
       "      <td>0.115695</td>\n",
       "      <td>0.290325</td>\n",
       "      <td>0.084309</td>\n",
       "    </tr>\n",
       "    <tr>\n",
       "      <th>std</th>\n",
       "      <td>3.625935</td>\n",
       "      <td>4.267421</td>\n",
       "      <td>24.998077</td>\n",
       "      <td>363.536865</td>\n",
       "      <td>0.013981</td>\n",
       "      <td>0.052932</td>\n",
       "      <td>0.080993</td>\n",
       "      <td>0.039159</td>\n",
       "      <td>0.027140</td>\n",
       "      <td>0.007045</td>\n",
       "      <td>...</td>\n",
       "      <td>4.897917</td>\n",
       "      <td>6.123728</td>\n",
       "      <td>34.025815</td>\n",
       "      <td>574.721873</td>\n",
       "      <td>0.022902</td>\n",
       "      <td>0.157587</td>\n",
       "      <td>0.211802</td>\n",
       "      <td>0.065949</td>\n",
       "      <td>0.059696</td>\n",
       "      <td>0.018168</td>\n",
       "    </tr>\n",
       "    <tr>\n",
       "      <th>min</th>\n",
       "      <td>6.981000</td>\n",
       "      <td>9.710000</td>\n",
       "      <td>43.790000</td>\n",
       "      <td>143.500000</td>\n",
       "      <td>0.052630</td>\n",
       "      <td>0.019380</td>\n",
       "      <td>0.000000</td>\n",
       "      <td>0.000000</td>\n",
       "      <td>0.116700</td>\n",
       "      <td>0.049960</td>\n",
       "      <td>...</td>\n",
       "      <td>7.930000</td>\n",
       "      <td>12.020000</td>\n",
       "      <td>50.410000</td>\n",
       "      <td>185.200000</td>\n",
       "      <td>0.081250</td>\n",
       "      <td>0.034320</td>\n",
       "      <td>0.000000</td>\n",
       "      <td>0.000000</td>\n",
       "      <td>0.156500</td>\n",
       "      <td>0.055040</td>\n",
       "    </tr>\n",
       "    <tr>\n",
       "      <th>25%</th>\n",
       "      <td>11.705000</td>\n",
       "      <td>16.210000</td>\n",
       "      <td>75.015000</td>\n",
       "      <td>419.250000</td>\n",
       "      <td>0.086740</td>\n",
       "      <td>0.066735</td>\n",
       "      <td>0.030180</td>\n",
       "      <td>0.020720</td>\n",
       "      <td>0.162050</td>\n",
       "      <td>0.057885</td>\n",
       "      <td>...</td>\n",
       "      <td>12.980000</td>\n",
       "      <td>21.350000</td>\n",
       "      <td>84.290000</td>\n",
       "      <td>513.950000</td>\n",
       "      <td>0.118350</td>\n",
       "      <td>0.151650</td>\n",
       "      <td>0.119350</td>\n",
       "      <td>0.065080</td>\n",
       "      <td>0.251550</td>\n",
       "      <td>0.071835</td>\n",
       "    </tr>\n",
       "    <tr>\n",
       "      <th>50%</th>\n",
       "      <td>13.300000</td>\n",
       "      <td>18.890000</td>\n",
       "      <td>85.980000</td>\n",
       "      <td>546.400000</td>\n",
       "      <td>0.096860</td>\n",
       "      <td>0.094860</td>\n",
       "      <td>0.063870</td>\n",
       "      <td>0.033840</td>\n",
       "      <td>0.179700</td>\n",
       "      <td>0.061550</td>\n",
       "      <td>...</td>\n",
       "      <td>14.990000</td>\n",
       "      <td>25.440000</td>\n",
       "      <td>97.660000</td>\n",
       "      <td>688.600000</td>\n",
       "      <td>0.132600</td>\n",
       "      <td>0.215600</td>\n",
       "      <td>0.229900</td>\n",
       "      <td>0.099930</td>\n",
       "      <td>0.283300</td>\n",
       "      <td>0.080190</td>\n",
       "    </tr>\n",
       "    <tr>\n",
       "      <th>75%</th>\n",
       "      <td>15.740000</td>\n",
       "      <td>21.795000</td>\n",
       "      <td>103.650000</td>\n",
       "      <td>777.250000</td>\n",
       "      <td>0.106050</td>\n",
       "      <td>0.130450</td>\n",
       "      <td>0.132200</td>\n",
       "      <td>0.074490</td>\n",
       "      <td>0.195800</td>\n",
       "      <td>0.066375</td>\n",
       "      <td>...</td>\n",
       "      <td>18.550000</td>\n",
       "      <td>29.990000</td>\n",
       "      <td>124.950000</td>\n",
       "      <td>1047.000000</td>\n",
       "      <td>0.147950</td>\n",
       "      <td>0.333800</td>\n",
       "      <td>0.387200</td>\n",
       "      <td>0.161950</td>\n",
       "      <td>0.317500</td>\n",
       "      <td>0.092070</td>\n",
       "    </tr>\n",
       "    <tr>\n",
       "      <th>max</th>\n",
       "      <td>28.110000</td>\n",
       "      <td>39.280000</td>\n",
       "      <td>188.500000</td>\n",
       "      <td>2501.000000</td>\n",
       "      <td>0.163400</td>\n",
       "      <td>0.345400</td>\n",
       "      <td>0.426800</td>\n",
       "      <td>0.201200</td>\n",
       "      <td>0.304000</td>\n",
       "      <td>0.095750</td>\n",
       "      <td>...</td>\n",
       "      <td>36.040000</td>\n",
       "      <td>49.540000</td>\n",
       "      <td>251.200000</td>\n",
       "      <td>4254.000000</td>\n",
       "      <td>0.222600</td>\n",
       "      <td>1.058000</td>\n",
       "      <td>1.252000</td>\n",
       "      <td>0.291000</td>\n",
       "      <td>0.577400</td>\n",
       "      <td>0.207500</td>\n",
       "    </tr>\n",
       "  </tbody>\n",
       "</table>\n",
       "<p>8 rows × 30 columns</p>\n",
       "</div>"
      ],
      "text/plain": [
       "       radius_mean  texture_mean  perimeter_mean    area_mean  \\\n",
       "count   455.000000    455.000000      455.000000   455.000000   \n",
       "mean     14.139000     19.306286       92.086044   657.829890   \n",
       "std       3.625935      4.267421       24.998077   363.536865   \n",
       "min       6.981000      9.710000       43.790000   143.500000   \n",
       "25%      11.705000     16.210000       75.015000   419.250000   \n",
       "50%      13.300000     18.890000       85.980000   546.400000   \n",
       "75%      15.740000     21.795000      103.650000   777.250000   \n",
       "max      28.110000     39.280000      188.500000  2501.000000   \n",
       "\n",
       "       smoothness_mean  compactness_mean  concavity_mean  concave points_mean  \\\n",
       "count       455.000000        455.000000      455.000000           455.000000   \n",
       "mean          0.096849          0.105557        0.090775             0.049585   \n",
       "std           0.013981          0.052932        0.080993             0.039159   \n",
       "min           0.052630          0.019380        0.000000             0.000000   \n",
       "25%           0.086740          0.066735        0.030180             0.020720   \n",
       "50%           0.096860          0.094860        0.063870             0.033840   \n",
       "75%           0.106050          0.130450        0.132200             0.074490   \n",
       "max           0.163400          0.345400        0.426800             0.201200   \n",
       "\n",
       "       symmetry_mean  fractal_dimension_mean  ...  radius_worst  \\\n",
       "count     455.000000              455.000000  ...    455.000000   \n",
       "mean        0.181319                0.062925  ...     16.276679   \n",
       "std         0.027140                0.007045  ...      4.897917   \n",
       "min         0.116700                0.049960  ...      7.930000   \n",
       "25%         0.162050                0.057885  ...     12.980000   \n",
       "50%         0.179700                0.061550  ...     14.990000   \n",
       "75%         0.195800                0.066375  ...     18.550000   \n",
       "max         0.304000                0.095750  ...     36.040000   \n",
       "\n",
       "       texture_worst  perimeter_worst   area_worst  smoothness_worst  \\\n",
       "count     455.000000       455.000000   455.000000        455.000000   \n",
       "mean       25.823099       107.319516   882.553187          0.133482   \n",
       "std         6.123728        34.025815   574.721873          0.022902   \n",
       "min        12.020000        50.410000   185.200000          0.081250   \n",
       "25%        21.350000        84.290000   513.950000          0.118350   \n",
       "50%        25.440000        97.660000   688.600000          0.132600   \n",
       "75%        29.990000       124.950000  1047.000000          0.147950   \n",
       "max        49.540000       251.200000  4254.000000          0.222600   \n",
       "\n",
       "       compactness_worst  concavity_worst  concave points_worst  \\\n",
       "count         455.000000       455.000000            455.000000   \n",
       "mean            0.256997         0.278242              0.115695   \n",
       "std             0.157587         0.211802              0.065949   \n",
       "min             0.034320         0.000000              0.000000   \n",
       "25%             0.151650         0.119350              0.065080   \n",
       "50%             0.215600         0.229900              0.099930   \n",
       "75%             0.333800         0.387200              0.161950   \n",
       "max             1.058000         1.252000              0.291000   \n",
       "\n",
       "       symmetry_worst  fractal_dimension_worst  \n",
       "count      455.000000               455.000000  \n",
       "mean         0.290325                 0.084309  \n",
       "std          0.059696                 0.018168  \n",
       "min          0.156500                 0.055040  \n",
       "25%          0.251550                 0.071835  \n",
       "50%          0.283300                 0.080190  \n",
       "75%          0.317500                 0.092070  \n",
       "max          0.577400                 0.207500  \n",
       "\n",
       "[8 rows x 30 columns]"
      ]
     },
     "execution_count": 6,
     "metadata": {},
     "output_type": "execute_result"
    }
   ],
   "source": [
    "train.drop(\"diagnosis\",axis = 1).describe()"
   ]
  },
  {
   "cell_type": "code",
   "execution_count": 7,
   "id": "1b196267",
   "metadata": {},
   "outputs": [
    {
     "data": {
      "image/png": "[encoded data removed]",
      "text/plain": [
       "<Figure size 1800x2000 with 30 Axes>"
      ]
     },
     "metadata": {},
     "output_type": "display_data"
    }
   ],
   "source": [
    "fig, axs = plt.subplots(6, 5)\n",
    "\n",
    "sns.histplot(train, x=\"radius_mean\", hue=\"diagnosis\", ax=axs[0, 0])\n",
    "sns.histplot(train, x=\"texture_mean\", hue=\"diagnosis\", ax=axs[0, 1])\n",
    "sns.histplot(train, x=\"perimeter_mean\", hue=\"diagnosis\", ax=axs[0, 2])\n",
    "sns.histplot(train, x=\"area_mean\", hue=\"diagnosis\", ax=axs[0, 3])\n",
    "sns.histplot(train, x=\"smoothness_mean\", hue=\"diagnosis\", ax=axs[0, 4])\n",
    "\n",
    "sns.histplot(train, x=\"radius_se\", hue=\"diagnosis\", ax=axs[1, 0])\n",
    "sns.histplot(train, x=\"texture_se\", hue=\"diagnosis\", ax=axs[1, 1])\n",
    "sns.histplot(train, x=\"perimeter_se\", hue=\"diagnosis\", ax=axs[1, 2])\n",
    "sns.histplot(train, x=\"area_se\", hue=\"diagnosis\", ax=axs[1, 3])\n",
    "sns.histplot(train, x=\"smoothness_se\", hue=\"diagnosis\", ax=axs[1, 4])\n",
    "\n",
    "sns.histplot(train, x=\"radius_worst\", hue=\"diagnosis\", ax=axs[2, 0])\n",
    "sns.histplot(train, x=\"texture_worst\", hue=\"diagnosis\", ax=axs[2, 1])\n",
    "sns.histplot(train, x=\"perimeter_worst\", hue=\"diagnosis\", ax=axs[2, 2])\n",
    "sns.histplot(train, x=\"area_worst\", hue=\"diagnosis\", ax=axs[2, 3])\n",
    "sns.histplot(train, x=\"smoothness_worst\", hue=\"diagnosis\", ax=axs[2, 4])\n",
    "\n",
    "sns.histplot(train, x=\"compactness_mean\", hue=\"diagnosis\", ax=axs[3, 0])\n",
    "sns.histplot(train, x=\"concavity_mean\", hue=\"diagnosis\", ax=axs[3, 1])\n",
    "sns.histplot(train, x=\"concave points_mean\", hue=\"diagnosis\", ax=axs[3, 2])\n",
    "sns.histplot(train, x=\"symmetry_mean\", hue=\"diagnosis\", ax=axs[3, 3])\n",
    "sns.histplot(train, x=\"fractal_dimension_mean\", hue=\"diagnosis\", ax=axs[3, 4])\n",
    "\n",
    "\n",
    "\n",
    "sns.histplot(train, x=\"compactness_se\", hue=\"diagnosis\", ax=axs[4, 0])\n",
    "sns.histplot(train, x=\"concavity_se\", hue=\"diagnosis\", ax=axs[4, 1])\n",
    "sns.histplot(train, x=\"concave points_se\", hue=\"diagnosis\", ax=axs[4, 2])\n",
    "sns.histplot(train, x=\"symmetry_se\", hue=\"diagnosis\", ax=axs[4, 3])\n",
    "sns.histplot(train, x=\"fractal_dimension_se\", hue=\"diagnosis\", ax=axs[4, 4])\n",
    "\n",
    "sns.histplot(train, x=\"compactness_worst\", hue=\"diagnosis\", ax=axs[5, 0])\n",
    "sns.histplot(train, x=\"concavity_worst\", hue=\"diagnosis\", ax=axs[5, 1])\n",
    "sns.histplot(train, x=\"concave points_worst\", hue=\"diagnosis\", ax=axs[5, 2])\n",
    "sns.histplot(train, x=\"symmetry_worst\", hue=\"diagnosis\", ax=axs[5, 3])\n",
    "sns.histplot(train, x=\"fractal_dimension_worst\", hue=\"diagnosis\", ax=axs[5, 4])\n",
    "\n",
    "\n",
    "\n",
    "plt.gcf().set_size_inches(18, 20)\n",
    "plt.show()"
   ]
  },
  {
   "cell_type": "markdown",
   "id": "16e8040f",
   "metadata": {},
   "source": [
    "# 2. Entrenament i ajustament de parameters dels models"
   ]
  },
  {
   "cell_type": "markdown",
   "id": "557466fb",
   "metadata": {},
   "source": [
    "Entrenarem diferents models de predicciò amb l'objetiu de seleccionar el que tingui un millor rendiment."
   ]
  },
  {
   "cell_type": "markdown",
   "id": "952d999d",
   "metadata": {},
   "source": [
    "Separem les dades en dos dataframes, un amb les variables independents i altre amb l'objetiu:"
   ]
  },
  {
   "cell_type": "code",
   "execution_count": 9,
   "id": "515fef9c",
   "metadata": {},
   "outputs": [],
   "source": [
    "x_train = train.drop(\"diagnosis\",axis = 1)\n",
    "y_train = train[[\"diagnosis\"]]"
   ]
  },
  {
   "cell_type": "markdown",
   "id": "9638754b",
   "metadata": {},
   "source": [
    "Per entrenar els models realitzarem un escalamient amb __Robust Scaler__ per després testar els seguents algorismes de classificació: __Decision Tree Classifier__ , __Random Forest Classifier__, __K Neighbors Classifier__,  __SV Classifier__ i __Gradient Boosting Classifier__."
   ]
  },
  {
   "cell_type": "markdown",
   "id": "07aa4011",
   "metadata": {},
   "source": [
    "__a) Decission Tree Classifier__"
   ]
  },
  {
   "cell_type": "markdown",
   "id": "d0fd02f9",
   "metadata": {},
   "source": [
    "Fem un pipeline i utilizem una cross validation score per evaluar el model respecte a la métrica f1 macro:"
   ]
  },
  {
   "cell_type": "code",
   "execution_count": 10,
   "id": "fe2d9968",
   "metadata": {},
   "outputs": [
    {
     "name": "stdout",
     "output_type": "stream",
     "text": [
      "Decission Tree Classifier\n",
      "Mitjana f1_macro: 0.9193806607445538\n",
      "Variància f1_macro: 0.0012739204655436308\n"
     ]
    }
   ],
   "source": [
    "pipe1 = Pipeline([('scaler', RobustScaler()), ('DTC', DecisionTreeClassifier(random_state=7))])\n",
    "\n",
    "score1 = cross_val_score( pipe1, x_train, y_train, cv = 5, scoring = \"f1_macro\")\n",
    "score1_mean = score1.mean()\n",
    "score1_var = np.var(score1)\n",
    "\n",
    "print(\"Decission Tree Classifier\")\n",
    "print(\"Mitjana f1_macro: \"+str(score1_mean))\n",
    "print(\"Variància f1_macro: \" + str(score1_var))"
   ]
  },
  {
   "cell_type": "markdown",
   "id": "e76c3853",
   "metadata": {},
   "source": [
    "Fem us d'una grid search dues vegades per fixar els párameters del model:"
   ]
  },
  {
   "cell_type": "code",
   "execution_count": 11,
   "id": "fdade786",
   "metadata": {},
   "outputs": [
    {
     "data": {
      "text/plain": [
       "Pipeline(steps=[('scaler', RobustScaler()),\n",
       "                ('DTC',\n",
       "                 DecisionTreeClassifier(criterion='entropy', max_depth=5,\n",
       "                                        min_samples_leaf=5, random_state=7))])"
      ]
     },
     "execution_count": 11,
     "metadata": {},
     "output_type": "execute_result"
    }
   ],
   "source": [
    "param_grid1 = {\n",
    "    'DTC__max_depth': list(range(0,41,5)),\n",
    "    'DTC__min_samples_leaf': list(range(0,41,5)),    \n",
    "    'DTC__criterion': ['gini','entropy', 'log_loss']\n",
    "}\n",
    "\n",
    "search = GridSearchCV(pipe1, param_grid1,scoring = \"f1_macro\",n_jobs=-1)\n",
    "\n",
    "search.fit(x_train,y_train)\n",
    "search.best_estimator_"
   ]
  },
  {
   "cell_type": "code",
   "execution_count": 12,
   "id": "b35c5980",
   "metadata": {},
   "outputs": [
    {
     "data": {
      "text/plain": [
       "Pipeline(steps=[('scaler', RobustScaler()),\n",
       "                ('DTC',\n",
       "                 DecisionTreeClassifier(criterion='entropy', max_depth=3,\n",
       "                                        min_samples_leaf=3, random_state=7))])"
      ]
     },
     "execution_count": 12,
     "metadata": {},
     "output_type": "execute_result"
    }
   ],
   "source": [
    "param_grid1 = {\n",
    "    'DTC__max_depth': list(range(0,11)),\n",
    "    'DTC__min_samples_leaf': list(range(0,11)),\n",
    "    'DTC__criterion': ['gini','entropy', 'log_loss']\n",
    "}\n",
    "\n",
    "search = GridSearchCV(pipe1, param_grid1,scoring = \"f1_macro\",n_jobs=-1)\n",
    "\n",
    "search.fit(x_train,y_train)\n",
    "search.best_estimator_"
   ]
  },
  {
   "cell_type": "markdown",
   "id": "d0bb5181",
   "metadata": {},
   "source": [
    "Fem calcul de la metrica f1 del model amb els parameters fixats:"
   ]
  },
  {
   "cell_type": "code",
   "execution_count": 13,
   "id": "c651512e",
   "metadata": {},
   "outputs": [
    {
     "name": "stdout",
     "output_type": "stream",
     "text": [
      "Tuned Decission Tree Classifier\n",
      "Mitjana f1_macro: 0.9497643859972558\n",
      "Variància f1_macro: 0.00032818091553189863\n"
     ]
    }
   ],
   "source": [
    "pipe1 =Pipeline(steps=[('scaler', RobustScaler()),\n",
    "                ('DTC',\n",
    "                 DecisionTreeClassifier(criterion='entropy', max_depth=3,\n",
    "                                        min_samples_leaf=3, random_state=7))])\n",
    "\n",
    "tunscore1= cross_val_score( pipe1, x_train, y_train, cv=5,scoring=\"f1_macro\")\n",
    "\n",
    "tunscore1_mean = tunscore1.mean()\n",
    "tunscore1_var = np.var(tunscore1)\n",
    "\n",
    "print(\"Tuned Decission Tree Classifier\")\n",
    "print(\"Mitjana f1_macro: \"+str(tunscore1_mean))\n",
    "print(\"Variància f1_macro: \" + str(tunscore1_var))"
   ]
  },
  {
   "cell_type": "markdown",
   "id": "738c826d",
   "metadata": {},
   "source": [
    "Repetim un procediment similar amb la resta de models:"
   ]
  },
  {
   "cell_type": "markdown",
   "id": "ca71b229",
   "metadata": {},
   "source": [
    "__b) Random Forest Classifier__ "
   ]
  },
  {
   "cell_type": "code",
   "execution_count": 14,
   "id": "d381c6a6",
   "metadata": {},
   "outputs": [
    {
     "name": "stdout",
     "output_type": "stream",
     "text": [
      "Random Forest Classifier\n",
      "Mitjana f1_macro: 0.9575537880186801\n",
      "Variacia f1_macro: 0.00035534451614887397\n"
     ]
    }
   ],
   "source": [
    "pipe2 = Pipeline([(\"scaler\", RobustScaler()), (\"RFC\", RandomForestClassifier(random_state=7))])\n",
    "\n",
    "score2= cross_val_score( pipe2, x_train, y_train, cv=5,scoring=\"f1_macro\")\n",
    "\n",
    "score2_mean = score2.mean()\n",
    "score2_var = np.var(score2)\n",
    "\n",
    "print(\"Random Forest Classifier\")\n",
    "print(\"Mitjana f1_macro: \"+str(score2_mean))\n",
    "print(\"Variacia f1_macro: \" + str(score2_var))"
   ]
  },
  {
   "cell_type": "code",
   "execution_count": 15,
   "id": "a8757d1e",
   "metadata": {},
   "outputs": [
    {
     "data": {
      "text/plain": [
       "Pipeline(steps=[('scaler', RobustScaler()),\n",
       "                ('RFC',\n",
       "                 RandomForestClassifier(max_depth=5, min_samples_leaf=5,\n",
       "                                        n_estimators=120, random_state=7))])"
      ]
     },
     "execution_count": 15,
     "metadata": {},
     "output_type": "execute_result"
    }
   ],
   "source": [
    "param_grid2= {\n",
    "    'RFC__n_estimators': list(range(0,201,10)),\n",
    "    'RFC__max_depth': list(range(0,41,5)),\n",
    "    'RFC__min_samples_leaf': list(range(0,41,5)),    \n",
    "    'RFC__criterion': ['gini','entropy', 'log_loss']}\n",
    "\n",
    "search = GridSearchCV(pipe2, param_grid=param_grid2,scoring = \"f1_macro\",n_jobs=-1)\n",
    "\n",
    "search.fit(x_train,y_train)\n",
    "search.best_estimator_"
   ]
  },
  {
   "cell_type": "code",
   "execution_count": 16,
   "id": "1d9790ec",
   "metadata": {},
   "outputs": [
    {
     "data": {
      "text/plain": [
       "Pipeline(steps=[('scaler', RobustScaler()),\n",
       "                ('RFC',\n",
       "                 RandomForestClassifier(max_depth=8, n_estimators=114,\n",
       "                                        random_state=7))])"
      ]
     },
     "execution_count": 16,
     "metadata": {},
     "output_type": "execute_result"
    }
   ],
   "source": [
    "param_grid2= {\n",
    "    'RFC__n_estimators': list(range(110,131,2)),\n",
    "    'RFC__max_depth': list(range(0,11)),\n",
    "    'RFC__min_samples_leaf': list(range(0,11)),    \n",
    "    }\n",
    "\n",
    "search = GridSearchCV(pipe2, param_grid=param_grid2,scoring = \"f1_macro\",n_jobs=-1)\n",
    "\n",
    "search.fit(x_train,y_train)\n",
    "search.best_estimator_"
   ]
  },
  {
   "cell_type": "code",
   "execution_count": 17,
   "id": "3513e8b5",
   "metadata": {},
   "outputs": [
    {
     "name": "stdout",
     "output_type": "stream",
     "text": [
      "Tuned Random Forest Classifier\n",
      "Mitjana f1_macro: 0.9622588649384849\n",
      "Variància f1_macro: 0.0003478172851605663\n"
     ]
    }
   ],
   "source": [
    "pipe2 = Pipeline(steps=[ ('scaler', RobustScaler()),\n",
    "                ('RFC',\n",
    "                 RandomForestClassifier(max_depth=8, n_estimators=114,\n",
    "                                        random_state=7))])\n",
    "\n",
    "tunscore2= cross_val_score( pipe2, x_train, y_train, cv=5,scoring='f1_macro')\n",
    "\n",
    "tunscore2_mean = tunscore2.mean()\n",
    "tunscore2_var = np.var(tunscore2)\n",
    "\n",
    "print(\"Tuned Random Forest Classifier\")\n",
    "print(\"Mitjana f1_macro: \"+str(tunscore2_mean))\n",
    "print(\"Variància f1_macro: \" + str(tunscore2_var))"
   ]
  },
  {
   "cell_type": "markdown",
   "id": "dd77841c",
   "metadata": {},
   "source": [
    "__c) K Neighbors Classifier__ "
   ]
  },
  {
   "cell_type": "code",
   "execution_count": 18,
   "id": "b6650502",
   "metadata": {},
   "outputs": [
    {
     "name": "stdout",
     "output_type": "stream",
     "text": [
      "K Neighbors Classifier\n",
      "Mitjana f1_macro: 0.9497643859972558\n",
      "Variancia f1_macro: 0.00032818091553189863\n"
     ]
    }
   ],
   "source": [
    "pipe3 = Pipeline([('scaler', RobustScaler()), ('KNC', KNeighborsClassifier())])\n",
    "\n",
    "score3 = cross_val_score( pipe1, x_train, y_train, cv = 5,scoring = \"f1_macro\")\n",
    "score3_mean = score3.mean()\n",
    "score3_var = np.var(score3)\n",
    "\n",
    "print(\"K Neighbors Classifier\")\n",
    "print(\"Mitjana f1_macro: \"+str(score3_mean))\n",
    "print(\"Variancia f1_macro: \" + str(score3_var))"
   ]
  },
  {
   "cell_type": "code",
   "execution_count": 19,
   "id": "77468a15",
   "metadata": {},
   "outputs": [
    {
     "data": {
      "text/plain": [
       "Pipeline(steps=[('scaler', RobustScaler()),\n",
       "                ('KNC',\n",
       "                 KNeighborsClassifier(leaf_size=5, metric='manhattan',\n",
       "                                      n_neighbors=3))])"
      ]
     },
     "execution_count": 19,
     "metadata": {},
     "output_type": "execute_result"
    }
   ],
   "source": [
    "param_grid3 = {\n",
    "    'KNC__n_neighbors': list(range(3,50,6)),\n",
    "    'KNC__leaf_size': list(range(5,51,5)),\n",
    "    'KNC__weights': ['uniform','distance'],\n",
    "    'KNC__metric': ['euclidean','manhattan']\n",
    "}\n",
    "\n",
    "search = GridSearchCV(pipe3, param_grid=param_grid3,scoring = \"f1_macro\",n_jobs=-1)\n",
    "\n",
    "search.fit(x_train,y_train)\n",
    "search.best_estimator_"
   ]
  },
  {
   "cell_type": "code",
   "execution_count": 20,
   "id": "752ecb38",
   "metadata": {},
   "outputs": [
    {
     "data": {
      "text/plain": [
       "Pipeline(steps=[('scaler', RobustScaler()),\n",
       "                ('KNC', KNeighborsClassifier(leaf_size=1, metric='manhattan'))])"
      ]
     },
     "execution_count": 20,
     "metadata": {},
     "output_type": "execute_result"
    }
   ],
   "source": [
    "param_grid3 = {\n",
    "    'KNC__n_neighbors': list(range(1,13,2)),\n",
    "    'KNC__leaf_size': list(range(1,11)),    \n",
    "    'KNC__metric': ['manhattan']\n",
    "}\n",
    "\n",
    "search = GridSearchCV(pipe3, param_grid=param_grid3,scoring = \"f1_macro\",n_jobs=-1)\n",
    "\n",
    "search.fit(x_train,y_train)\n",
    "search.best_estimator_"
   ]
  },
  {
   "cell_type": "code",
   "execution_count": 21,
   "id": "fadb0ee1",
   "metadata": {},
   "outputs": [
    {
     "name": "stdout",
     "output_type": "stream",
     "text": [
      "Tuned K Neighbors Classifier\n",
      "Mitjana f1_macro: 0.9665552568972016\n",
      "Variància f1_macro: 0.00019682136395223387\n"
     ]
    }
   ],
   "source": [
    "pipe3 = Pipeline(steps=[('scaler', RobustScaler()),\n",
    "                ('KNC', KNeighborsClassifier(leaf_size=1, metric='manhattan'))])\n",
    "\n",
    "tunscore3= cross_val_score( pipe3, x_train, y_train, cv=5,scoring=\"f1_macro\")\n",
    "\n",
    "tunscore3_mean = tunscore3.mean()\n",
    "tunscore3_var = np.var(tunscore3)\n",
    "\n",
    "print(\"Tuned K Neighbors Classifier\")\n",
    "print(\"Mitjana f1_macro: \"+str(tunscore3_mean))\n",
    "print(\"Variància f1_macro: \" + str(tunscore3_var))"
   ]
  },
  {
   "cell_type": "markdown",
   "id": "60a5655d",
   "metadata": {},
   "source": [
    "__d) SV Classifier__ "
   ]
  },
  {
   "cell_type": "code",
   "execution_count": 22,
   "id": "40f393be",
   "metadata": {},
   "outputs": [
    {
     "name": "stdout",
     "output_type": "stream",
     "text": [
      "Support Vector Machine Classifier\n",
      "Mitjana f1_macro: 0.9691660650654992\n",
      "Variancia f1_macro: 9.259442448501313e-05\n"
     ]
    }
   ],
   "source": [
    "pipe4 = Pipeline([('scaler', RobustScaler()), ('SVC', SVC(random_state=7))])\n",
    "\n",
    "score4= cross_val_score( pipe4, x_train, y_train, cv=5,scoring='f1_macro')\n",
    "\n",
    "score4_mean = score4.mean()\n",
    "score4_var = np.var(score4)\n",
    "\n",
    "print(\"Support Vector Machine Classifier\")\n",
    "print(\"Mitjana f1_macro: \"+str(score4_mean))\n",
    "print(\"Variancia f1_macro: \" + str(score4_var))"
   ]
  },
  {
   "cell_type": "code",
   "execution_count": 23,
   "id": "9a79b5d7",
   "metadata": {},
   "outputs": [
    {
     "data": {
      "text/plain": [
       "Pipeline(steps=[('scaler', RobustScaler()),\n",
       "                ('SVC',\n",
       "                 SVC(C=100, gamma=0.001, kernel='sigmoid', random_state=7))])"
      ]
     },
     "execution_count": 23,
     "metadata": {},
     "output_type": "execute_result"
    }
   ],
   "source": [
    "param_grid4= {'SVC__C': [0.1,1, 10, 100,1000], \n",
    "              'SVC__gamma': [\"scale\",\"auto\",1,0.1,0.01,0.001,.0001],\n",
    "              'SVC__kernel': ['rbf', 'poly', 'sigmoid']} \n",
    "    \n",
    "search = GridSearchCV(pipe4, param_grid=param_grid4 ,scoring = \"f1_macro\",n_jobs=-1)\n",
    "\n",
    "search.fit(x_train,y_train)\n",
    "search.best_estimator_"
   ]
  },
  {
   "cell_type": "code",
   "execution_count": 24,
   "id": "536b421b",
   "metadata": {},
   "outputs": [
    {
     "data": {
      "text/plain": [
       "Pipeline(steps=[('scaler', RobustScaler()),\n",
       "                ('SVC',\n",
       "                 SVC(C=50.11872336272722, gamma=0.0025118864315095803,\n",
       "                     kernel='sigmoid', random_state=7))])"
      ]
     },
     "execution_count": 24,
     "metadata": {},
     "output_type": "execute_result"
    }
   ],
   "source": [
    "param_grid4= {'SVC__C': [10*(np.power(10,(6/10))),10*(np.power(10,(7/10))),10*(np.power(10,(8/10))),10*(np.power(10,(9/10))),100,100*(np.power(10,(1/10))),100*(np.power(10,(2/10))),100*(np.power(10,(3/10))),100*(np.power(10,(4/10)))],\n",
    "              'SVC__gamma': [10*(np.power(.001,(6/10))),.001*(np.power(10,(7/10))),.001*(np.power(10,(8/10))),.001*(np.power(10,(9/10))),.001,.001*(np.power(10,(1/10))),.001*(np.power(10,(2/10))),.001*(np.power(10,(3/10))),.001*(np.power(10,(4/10)))],\n",
    "              'SVC__kernel': ['sigmoid']\n",
    "             } \n",
    "    \n",
    "\n",
    "search = GridSearchCV(pipe4, param_grid=param_grid4 ,scoring = \"f1_macro\",n_jobs=-1)\n",
    "search.fit(x_train,y_train)\n",
    "search.best_estimator_"
   ]
  },
  {
   "cell_type": "code",
   "execution_count": 25,
   "id": "d4aced91",
   "metadata": {},
   "outputs": [
    {
     "name": "stdout",
     "output_type": "stream",
     "text": [
      "Tuned Support Vector Machine Classifier\n",
      "Mitjana f1_macro: 0.9762580310930018\n",
      "Variancia f1_macro: 0.00017025546172570077\n"
     ]
    }
   ],
   "source": [
    "pipe4 = Pipeline(steps=[('scaler', RobustScaler()), ('SVC', SVC(C=50.11872336272722, gamma=0.0025118864315095803,\n",
    "                     kernel='sigmoid', random_state=7))])\n",
    "\n",
    "tunscore4= cross_val_score( pipe4, x_train, y_train, cv=5,scoring='f1_macro')\n",
    "\n",
    "tunscore4_mean = tunscore4.mean()\n",
    "tunscore4_var = np.var(tunscore4)\n",
    "\n",
    "print(\"Tuned Support Vector Machine Classifier\")\n",
    "print(\"Mitjana f1_macro: \"+str(tunscore4_mean))\n",
    "print(\"Variancia f1_macro: \" + str(tunscore4_var))"
   ]
  },
  {
   "cell_type": "markdown",
   "id": "996ba9a9",
   "metadata": {},
   "source": [
    "__e) Gradient Boosting Classifier__ "
   ]
  },
  {
   "cell_type": "code",
   "execution_count": 26,
   "id": "aacd0570",
   "metadata": {},
   "outputs": [
    {
     "name": "stdout",
     "output_type": "stream",
     "text": [
      "Gradient Boosting Classifier\n",
      "Mitjana f1_macro: 0.950342522519794\n",
      "Variancia f1_macro: 9.259442448501313e-05\n"
     ]
    }
   ],
   "source": [
    "pipe5 = Pipeline([('scaler', RobustScaler()), ('GBC', GradientBoostingClassifier(random_state=7))])\n",
    "\n",
    "score5= cross_val_score( pipe5, x_train, y_train, cv=5,scoring='f1_macro')\n",
    "\n",
    "score5_mean = score5.mean()\n",
    "score5_var = np.var(score4)\n",
    "\n",
    "print(\"Gradient Boosting Classifier\")\n",
    "print(\"Mitjana f1_macro: \"+str(score5_mean))\n",
    "print(\"Variancia f1_macro: \" + str(score5_var))"
   ]
  },
  {
   "cell_type": "code",
   "execution_count": 27,
   "id": "7cc99ac5",
   "metadata": {},
   "outputs": [
    {
     "data": {
      "text/plain": [
       "Pipeline(steps=[('scaler', RobustScaler()),\n",
       "                ('GBC',\n",
       "                 GradientBoostingClassifier(n_estimators=450, random_state=7))])"
      ]
     },
     "execution_count": 27,
     "metadata": {},
     "output_type": "execute_result"
    }
   ],
   "source": [
    "param_grid5= {\n",
    "    'GBC__n_estimators': list(range(0,501,50)),\n",
    "    'GBC__max_depth': list(range(3,41,5)),    \n",
    "    \"GBC__learning_rate\":[1,0.1,0.01,0.001]\n",
    "}\n",
    "\n",
    "search = GridSearchCV(pipe5, param_grid=param_grid5 ,scoring = \"f1_macro\",n_jobs=-1)\n",
    "search.fit(x_train,y_train)\n",
    "search.best_estimator_"
   ]
  },
  {
   "cell_type": "code",
   "execution_count": 28,
   "id": "895dd11e",
   "metadata": {},
   "outputs": [
    {
     "data": {
      "text/plain": [
       "Pipeline(steps=[('scaler', RobustScaler()),\n",
       "                ('GBC',\n",
       "                 GradientBoostingClassifier(learning_rate=0.12589254117941673,\n",
       "                                            max_depth=2, n_estimators=430,\n",
       "                                            random_state=7))])"
      ]
     },
     "execution_count": 28,
     "metadata": {},
     "output_type": "execute_result"
    }
   ],
   "source": [
    "param_grid5= {\n",
    "    'GBC__n_estimators': list(range(425,476,5)),\n",
    "    'GBC__max_depth': list(range(1,6)),    \n",
    "    \"GBC__learning_rate\":[0.01*np.power(10,(8/10)),0.01*np.power(10,(9/10)),0.1,0.1*np.power(10,(1/10)),0.1*np.power(10,(2/10))]\n",
    "}\n",
    "search = GridSearchCV(pipe5, param_grid=param_grid5 ,scoring = \"f1_macro\",n_jobs=-1)\n",
    "search.fit(x_train,y_train)\n",
    "search.best_estimator_"
   ]
  },
  {
   "cell_type": "code",
   "execution_count": 29,
   "id": "82b7b633",
   "metadata": {},
   "outputs": [
    {
     "name": "stdout",
     "output_type": "stream",
     "text": [
      "Tuned Gradient Boosting Classifier\n",
      "Mitjana f1_macro: 0.96661007026155\n",
      "Variància f1_macro: 0.00030616074653983845\n"
     ]
    }
   ],
   "source": [
    "pipe5 = Pipeline(steps=[('scaler', RobustScaler()),\n",
    "                ('GBC',\n",
    "                 GradientBoostingClassifier(learning_rate=0.12589254117941673,\n",
    "                                            max_depth=2, n_estimators=430,\n",
    "                                            random_state=7))])\n",
    "\n",
    "tunscore5= cross_val_score( pipe5, x_train, y_train, cv=5,scoring='f1_macro')\n",
    "\n",
    "tunscore5_mean = tunscore5.mean()\n",
    "tunscore5_var = np.var(tunscore5)\n",
    "\n",
    "print(\"Tuned Gradient Boosting Classifier\")\n",
    "print(\"Mitjana f1_macro: \"+str(tunscore5_mean))\n",
    "print(\"Variància f1_macro: \" + str(tunscore5_var))"
   ]
  },
  {
   "cell_type": "markdown",
   "id": "bbf2d96f",
   "metadata": {},
   "source": [
    "La seguent tabla conté un resum dels valor de la metrica f1 abans i després de fixar els parameters:"
   ]
  },
  {
   "cell_type": "code",
   "execution_count": 30,
   "id": "c4ac6ddb",
   "metadata": {},
   "outputs": [
    {
     "data": {
      "text/html": [
       "<div>\n",
       "<style scoped>\n",
       "    .dataframe tbody tr th:only-of-type {\n",
       "        vertical-align: middle;\n",
       "    }\n",
       "\n",
       "    .dataframe tbody tr th {\n",
       "        vertical-align: top;\n",
       "    }\n",
       "\n",
       "    .dataframe thead th {\n",
       "        text-align: right;\n",
       "    }\n",
       "</style>\n",
       "<table border=\"1\" class=\"dataframe\">\n",
       "  <thead>\n",
       "    <tr style=\"text-align: right;\">\n",
       "      <th></th>\n",
       "      <th>f1_macro mean</th>\n",
       "      <th>f1_macro var</th>\n",
       "      <th>Tuned f1_macro mean</th>\n",
       "      <th>Tuned f1_macro var</th>\n",
       "    </tr>\n",
       "  </thead>\n",
       "  <tbody>\n",
       "    <tr>\n",
       "      <th>DTC</th>\n",
       "      <td>0.919381</td>\n",
       "      <td>0.001274</td>\n",
       "      <td>0.949764</td>\n",
       "      <td>0.000328</td>\n",
       "    </tr>\n",
       "    <tr>\n",
       "      <th>RFC</th>\n",
       "      <td>0.957554</td>\n",
       "      <td>0.000355</td>\n",
       "      <td>0.962259</td>\n",
       "      <td>0.000348</td>\n",
       "    </tr>\n",
       "    <tr>\n",
       "      <th>KNC</th>\n",
       "      <td>0.949764</td>\n",
       "      <td>0.000328</td>\n",
       "      <td>0.966555</td>\n",
       "      <td>0.000197</td>\n",
       "    </tr>\n",
       "    <tr>\n",
       "      <th>SVC</th>\n",
       "      <td>0.969166</td>\n",
       "      <td>0.000093</td>\n",
       "      <td>0.976258</td>\n",
       "      <td>0.000170</td>\n",
       "    </tr>\n",
       "    <tr>\n",
       "      <th>GBC</th>\n",
       "      <td>0.950343</td>\n",
       "      <td>0.000093</td>\n",
       "      <td>0.966610</td>\n",
       "      <td>0.000306</td>\n",
       "    </tr>\n",
       "  </tbody>\n",
       "</table>\n",
       "</div>"
      ],
      "text/plain": [
       "     f1_macro mean  f1_macro var  Tuned f1_macro mean  Tuned f1_macro var\n",
       "DTC       0.919381      0.001274             0.949764            0.000328\n",
       "RFC       0.957554      0.000355             0.962259            0.000348\n",
       "KNC       0.949764      0.000328             0.966555            0.000197\n",
       "SVC       0.969166      0.000093             0.976258            0.000170\n",
       "GBC       0.950343      0.000093             0.966610            0.000306"
      ]
     },
     "execution_count": 30,
     "metadata": {},
     "output_type": "execute_result"
    }
   ],
   "source": [
    "table_score= pd.DataFrame(data ={\"f1_macro mean\":[score1_mean,score2_mean,score3_mean,score4_mean,score5_mean], \n",
    "                                 \"f1_macro var\":[score1_var,score2_var,score3_var,score4_var,score5_var],\n",
    "                                 \"Tuned f1_macro mean\":[tunscore1_mean,tunscore2_mean,tunscore3_mean,tunscore4_mean,tunscore5_mean],\n",
    "                                 \"Tuned f1_macro var\":[tunscore1_var,tunscore2_var,tunscore3_var,tunscore4_var,tunscore5_var]                                \n",
    "                                },index =[\"DTC\",\"RFC\",\"KNC\",\"SVC\",\"GBC\"])\n",
    "\n",
    "table_score"
   ]
  },
  {
   "cell_type": "markdown",
   "id": "8cf0e54a",
   "metadata": {},
   "source": [
    "El model __SV Classifier__  amb parameters fixats ha obtingut el millor resultat amb la metrica f1 ho seleccionem per fer las prediccions del test"
   ]
  },
  {
   "cell_type": "markdown",
   "id": "02ebecd2",
   "metadata": {},
   "source": [
    "# 3. Predicció"
   ]
  },
  {
   "cell_type": "markdown",
   "id": "af5df8a7",
   "metadata": {},
   "source": [
    "Fem la predicció,  tornem a entrenar el model __SV Classifier__ amb els parámeters que haviem seleccionat:"
   ]
  },
  {
   "cell_type": "code",
   "execution_count": 31,
   "id": "5f7a1c9b",
   "metadata": {},
   "outputs": [
    {
     "data": {
      "text/plain": [
       "Pipeline(steps=[('scaler', RobustScaler()),\n",
       "                ('SVC',\n",
       "                 SVC(C=50.11872336272722, gamma=0.0025118864315095803,\n",
       "                     kernel='sigmoid', random_state=7))])"
      ]
     },
     "execution_count": 31,
     "metadata": {},
     "output_type": "execute_result"
    }
   ],
   "source": [
    "pipe4 = Pipeline(steps=[('scaler', RobustScaler()), ('SVC', SVC(C=50.11872336272722, gamma=0.0025118864315095803,\n",
    "                     kernel='sigmoid', random_state=7))])\n",
    "\n",
    "pipe4.fit(x_train, y_train)"
   ]
  },
  {
   "cell_type": "markdown",
   "id": "b7a18341",
   "metadata": {},
   "source": [
    "Carreguem el test i fem us del model per la predicció:"
   ]
  },
  {
   "cell_type": "code",
   "execution_count": 32,
   "id": "e683a8b9",
   "metadata": {},
   "outputs": [],
   "source": [
    "x_test = pd.read_csv(\"test.csv\")\n",
    "diag_predict = pipe4.predict(x_test)"
   ]
  },
  {
   "cell_type": "markdown",
   "id": "8d5bb886",
   "metadata": {},
   "source": [
    "Fem un data frame amb la predicció: "
   ]
  },
  {
   "cell_type": "code",
   "execution_count": 33,
   "id": "444ecc6d",
   "metadata": {},
   "outputs": [
    {
     "data": {
      "text/html": [
       "<div>\n",
       "<style scoped>\n",
       "    .dataframe tbody tr th:only-of-type {\n",
       "        vertical-align: middle;\n",
       "    }\n",
       "\n",
       "    .dataframe tbody tr th {\n",
       "        vertical-align: top;\n",
       "    }\n",
       "\n",
       "    .dataframe thead th {\n",
       "        text-align: right;\n",
       "    }\n",
       "</style>\n",
       "<table border=\"1\" class=\"dataframe\">\n",
       "  <thead>\n",
       "    <tr style=\"text-align: right;\">\n",
       "      <th></th>\n",
       "      <th>diagnosis</th>\n",
       "    </tr>\n",
       "  </thead>\n",
       "  <tbody>\n",
       "    <tr>\n",
       "      <th>0</th>\n",
       "      <td>0</td>\n",
       "    </tr>\n",
       "    <tr>\n",
       "      <th>1</th>\n",
       "      <td>0</td>\n",
       "    </tr>\n",
       "    <tr>\n",
       "      <th>2</th>\n",
       "      <td>0</td>\n",
       "    </tr>\n",
       "    <tr>\n",
       "      <th>3</th>\n",
       "      <td>1</td>\n",
       "    </tr>\n",
       "    <tr>\n",
       "      <th>4</th>\n",
       "      <td>0</td>\n",
       "    </tr>\n",
       "    <tr>\n",
       "      <th>...</th>\n",
       "      <td>...</td>\n",
       "    </tr>\n",
       "    <tr>\n",
       "      <th>109</th>\n",
       "      <td>0</td>\n",
       "    </tr>\n",
       "    <tr>\n",
       "      <th>110</th>\n",
       "      <td>0</td>\n",
       "    </tr>\n",
       "    <tr>\n",
       "      <th>111</th>\n",
       "      <td>0</td>\n",
       "    </tr>\n",
       "    <tr>\n",
       "      <th>112</th>\n",
       "      <td>1</td>\n",
       "    </tr>\n",
       "    <tr>\n",
       "      <th>113</th>\n",
       "      <td>0</td>\n",
       "    </tr>\n",
       "  </tbody>\n",
       "</table>\n",
       "<p>114 rows × 1 columns</p>\n",
       "</div>"
      ],
      "text/plain": [
       "     diagnosis\n",
       "0            0\n",
       "1            0\n",
       "2            0\n",
       "3            1\n",
       "4            0\n",
       "..         ...\n",
       "109          0\n",
       "110          0\n",
       "111          0\n",
       "112          1\n",
       "113          0\n",
       "\n",
       "[114 rows x 1 columns]"
      ]
     },
     "execution_count": 33,
     "metadata": {},
     "output_type": "execute_result"
    }
   ],
   "source": [
    "diag_predict=pd.DataFrame(diag_predict)\n",
    "diag_predict.columns=[\"diagnosis\"]\n",
    "diag_predict"
   ]
  },
  {
   "cell_type": "markdown",
   "id": "083dea3e",
   "metadata": {},
   "source": [
    "Convertim el dataframe a un csv amb les característiques demanades:"
   ]
  },
  {
   "cell_type": "code",
   "execution_count": 34,
   "id": "4b10215c",
   "metadata": {},
   "outputs": [],
   "source": [
    "diag_predict.to_csv(\"predictions.csv\",index= False )"
   ]
  }
 ],
 "metadata": {
  "kernelspec": {
   "display_name": "Python 3",
   "language": "python",
   "name": "python3"
  },
  "language_info": {
   "codemirror_mode": {
    "name": "ipython",
    "version": 3
   },
   "file_extension": ".py",
   "mimetype": "text/x-python",
   "name": "python",
   "nbconvert_exporter": "python",
   "pygments_lexer": "ipython3",
   "version": "3.8.11"
  }
 },
 "nbformat": 4,
 "nbformat_minor": 5
}
